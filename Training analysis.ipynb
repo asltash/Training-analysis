{
 "cells": [
  {
   "cell_type": "markdown",
   "metadata": {},
   "source": [
    "Импортируем необходимые для анализа библиотеки"
   ]
  },
  {
   "cell_type": "code",
   "execution_count": 1,
   "metadata": {},
   "outputs": [],
   "source": [
    "import numpy as np\n",
    "import pandas as pd\n",
    "import datetime\n",
    "import dateutil\n",
    "\n",
    "import matplotlib.pyplot as plt\n",
    "%matplotlib inline\n",
    "\n",
    "import seaborn as sns\n",
    "\n",
    "#увеличим дефолтный размер графиков\n",
    "from pylab import rcParams\n",
    "rcParams['figure.figsize'] = 8, 5"
   ]
  },
  {
   "cell_type": "markdown",
   "metadata": {},
   "source": [
    "Загрузим данные и посмотрим на размер датасета"
   ]
  },
  {
   "cell_type": "code",
   "execution_count": 2,
   "metadata": {},
   "outputs": [
    {
     "data": {
      "text/plain": [
       "(216, 12)"
      ]
     },
     "execution_count": 2,
     "metadata": {},
     "output_type": "execute_result"
    }
   ],
   "source": [
    "data = pd.read_csv('JourneyA1000Miles.csv')\n",
    "data.shape"
   ]
  },
  {
   "cell_type": "markdown",
   "metadata": {},
   "source": [
    "Имеем 216 строк и 12 столбцов. Посмотрим на первые 5 строк датасета."
   ]
  },
  {
   "cell_type": "code",
   "execution_count": 3,
   "metadata": {},
   "outputs": [
    {
     "data": {
      "text/html": [
       "<div>\n",
       "<style scoped>\n",
       "    .dataframe tbody tr th:only-of-type {\n",
       "        vertical-align: middle;\n",
       "    }\n",
       "\n",
       "    .dataframe tbody tr th {\n",
       "        vertical-align: top;\n",
       "    }\n",
       "\n",
       "    .dataframe thead th {\n",
       "        text-align: right;\n",
       "    }\n",
       "</style>\n",
       "<table border=\"1\" class=\"dataframe\">\n",
       "  <thead>\n",
       "    <tr style=\"text-align: right;\">\n",
       "      <th></th>\n",
       "      <th>Favorite</th>\n",
       "      <th>Activity Name</th>\n",
       "      <th>Activity Type</th>\n",
       "      <th>Start</th>\n",
       "      <th>Time</th>\n",
       "      <th>Distance</th>\n",
       "      <th>Elevation Gain</th>\n",
       "      <th>Avg Speed(Avg Pace)</th>\n",
       "      <th>Max Speed(Best Pace)</th>\n",
       "      <th>Avg HR</th>\n",
       "      <th>Max HR</th>\n",
       "      <th>Calories</th>\n",
       "    </tr>\n",
       "  </thead>\n",
       "  <tbody>\n",
       "    <tr>\n",
       "      <th>0</th>\n",
       "      <td>false</td>\n",
       "      <td>Missoula Running</td>\n",
       "      <td>Running</td>\n",
       "      <td>Fri, Mar 3, 2017 9:19 PM</td>\n",
       "      <td>1:09:06</td>\n",
       "      <td>5.04</td>\n",
       "      <td>65</td>\n",
       "      <td>13:43</td>\n",
       "      <td>5:09</td>\n",
       "      <td>NaN</td>\n",
       "      <td>NaN</td>\n",
       "      <td>627</td>\n",
       "    </tr>\n",
       "    <tr>\n",
       "      <th>1</th>\n",
       "      <td>false</td>\n",
       "      <td>Missoula Running</td>\n",
       "      <td>Running</td>\n",
       "      <td>Thu, Mar 2, 2017 11:06 AM</td>\n",
       "      <td>1:09:01</td>\n",
       "      <td>5.04</td>\n",
       "      <td>74</td>\n",
       "      <td>13:42</td>\n",
       "      <td>5:22</td>\n",
       "      <td>NaN</td>\n",
       "      <td>NaN</td>\n",
       "      <td>676</td>\n",
       "    </tr>\n",
       "    <tr>\n",
       "      <th>2</th>\n",
       "      <td>false</td>\n",
       "      <td>Missoula Running</td>\n",
       "      <td>Running</td>\n",
       "      <td>Tue, Feb 28, 2017 9:07 AM</td>\n",
       "      <td>1:43:38</td>\n",
       "      <td>7.09</td>\n",
       "      <td>130</td>\n",
       "      <td>14:37</td>\n",
       "      <td>7:29</td>\n",
       "      <td>NaN</td>\n",
       "      <td>NaN</td>\n",
       "      <td>833</td>\n",
       "    </tr>\n",
       "    <tr>\n",
       "      <th>3</th>\n",
       "      <td>false</td>\n",
       "      <td>Missoula Running</td>\n",
       "      <td>Running</td>\n",
       "      <td>Sun, Feb 26, 2017 12:31 PM</td>\n",
       "      <td>2:27:20</td>\n",
       "      <td>9.03</td>\n",
       "      <td>179</td>\n",
       "      <td>16:19</td>\n",
       "      <td>3:03</td>\n",
       "      <td>NaN</td>\n",
       "      <td>NaN</td>\n",
       "      <td>1,025</td>\n",
       "    </tr>\n",
       "    <tr>\n",
       "      <th>4</th>\n",
       "      <td>false</td>\n",
       "      <td>Missoula Running</td>\n",
       "      <td>Running</td>\n",
       "      <td>Fri, Feb 24, 2017 4:31 PM</td>\n",
       "      <td>1:13:17</td>\n",
       "      <td>5.04</td>\n",
       "      <td>53</td>\n",
       "      <td>14:32</td>\n",
       "      <td>7:21</td>\n",
       "      <td>NaN</td>\n",
       "      <td>NaN</td>\n",
       "      <td>610</td>\n",
       "    </tr>\n",
       "  </tbody>\n",
       "</table>\n",
       "</div>"
      ],
      "text/plain": [
       "   Favorite     Activity Name Activity Type                       Start  \\\n",
       "0     false  Missoula Running       Running    Fri, Mar 3, 2017 9:19 PM   \n",
       "1     false  Missoula Running       Running   Thu, Mar 2, 2017 11:06 AM   \n",
       "2     false  Missoula Running       Running   Tue, Feb 28, 2017 9:07 AM   \n",
       "3     false  Missoula Running       Running  Sun, Feb 26, 2017 12:31 PM   \n",
       "4     false  Missoula Running       Running   Fri, Feb 24, 2017 4:31 PM   \n",
       "\n",
       "      Time  Distance Elevation Gain Avg Speed(Avg Pace) Max Speed(Best Pace)  \\\n",
       "0  1:09:06      5.04             65               13:43                 5:09   \n",
       "1  1:09:01      5.04             74               13:42                 5:22   \n",
       "2  1:43:38      7.09            130               14:37                 7:29   \n",
       "3  2:27:20      9.03            179               16:19                 3:03   \n",
       "4  1:13:17      5.04             53               14:32                 7:21   \n",
       "\n",
       "   Avg HR  Max HR Calories  \n",
       "0     NaN     NaN      627  \n",
       "1     NaN     NaN      676  \n",
       "2     NaN     NaN      833  \n",
       "3     NaN     NaN    1,025  \n",
       "4     NaN     NaN      610  "
      ]
     },
     "execution_count": 3,
     "metadata": {},
     "output_type": "execute_result"
    }
   ],
   "source": [
    "data.head()"
   ]
  },
  {
   "cell_type": "markdown",
   "metadata": {},
   "source": [
    "Выведем названия столбцов"
   ]
  },
  {
   "cell_type": "code",
   "execution_count": 4,
   "metadata": {},
   "outputs": [
    {
     "data": {
      "text/plain": [
       "Index([' Favorite', 'Activity Name', 'Activity Type', 'Start', 'Time',\n",
       "       'Distance', 'Elevation Gain', 'Avg Speed(Avg Pace)',\n",
       "       'Max Speed(Best Pace)', 'Avg HR', 'Max HR', 'Calories'],\n",
       "      dtype='object')"
      ]
     },
     "execution_count": 4,
     "metadata": {},
     "output_type": "execute_result"
    }
   ],
   "source": [
    "data.columns"
   ]
  },
  {
   "cell_type": "markdown",
   "metadata": {},
   "source": [
    "Интуитивно столбцы значат следующее:\\\n",
    "'Favorite' - неизвестно\\\n",
    "'Activity Name' - название тренировки\\\n",
    "'Activity Type' - вид тренировки\\\n",
    "'Start' - дата и время начала тренировки\\\n",
    "'Time' - продолжительность тренировки\\\n",
    "'Distance' - дистанция преодоленная на тренировке, (миль)\\\n",
    "'Elevation Gain' - общий набор высоты за тренировку\\\n",
    "'Avg Speed (Avg Pace)' - средняя скорость, (миль/час)\\\n",
    "'Max Speed (Best Pace)' - максимальная скорость, (миль/час)\\\n",
    "'Avg HR' - средний пульс, (уд/мин)\\\n",
    "'Max HR' - максимальный пульс, (уд/мин)\\\n",
    "'Calories' - сожженные калории"
   ]
  },
  {
   "cell_type": "markdown",
   "metadata": {},
   "source": [
    "Посмотрим каким типом данных представлены признаки в нашем датасете, а также есть ли пропущенные значения."
   ]
  },
  {
   "cell_type": "code",
   "execution_count": 5,
   "metadata": {},
   "outputs": [
    {
     "name": "stdout",
     "output_type": "stream",
     "text": [
      "<class 'pandas.core.frame.DataFrame'>\n",
      "RangeIndex: 216 entries, 0 to 215\n",
      "Data columns (total 12 columns):\n",
      " #   Column                Non-Null Count  Dtype  \n",
      "---  ------                --------------  -----  \n",
      " 0    Favorite             216 non-null    object \n",
      " 1   Activity Name         216 non-null    object \n",
      " 2   Activity Type         216 non-null    object \n",
      " 3   Start                 216 non-null    object \n",
      " 4   Time                  216 non-null    object \n",
      " 5   Distance              216 non-null    float64\n",
      " 6   Elevation Gain        189 non-null    object \n",
      " 7   Avg Speed(Avg Pace)   216 non-null    object \n",
      " 8   Max Speed(Best Pace)  216 non-null    object \n",
      " 9   Avg HR                16 non-null     float64\n",
      " 10  Max HR                16 non-null     float64\n",
      " 11  Calories              216 non-null    object \n",
      "dtypes: float64(3), object(9)\n",
      "memory usage: 20.4+ KB\n"
     ]
    }
   ],
   "source": [
    "data.info()"
   ]
  },
  {
   "cell_type": "markdown",
   "metadata": {},
   "source": [
    "Видно, что признаки 'Distance', 'Avg HR' и 'Max HR' имеют тип 'float64', а остальные признаки 'object'. У признаков 'Avg HR' и 'Max HR' заполнено всего 16 строк, у 'Elevation Gain' 189 из 216 строк."
   ]
  },
  {
   "cell_type": "markdown",
   "metadata": {},
   "source": [
    "Посмотрим на количество уникальных значений признаков."
   ]
  },
  {
   "cell_type": "code",
   "execution_count": 6,
   "metadata": {},
   "outputs": [
    {
     "data": {
      "text/plain": [
       " Favorite                 1\n",
       "Activity Name            31\n",
       "Activity Type             2\n",
       "Start                   214\n",
       "Time                    210\n",
       "Distance                137\n",
       "Elevation Gain          135\n",
       "Avg Speed(Avg Pace)     179\n",
       "Max Speed(Best Pace)    162\n",
       "Avg HR                    8\n",
       "Max HR                   10\n",
       "Calories                195\n",
       "dtype: int64"
      ]
     },
     "execution_count": 6,
     "metadata": {},
     "output_type": "execute_result"
    }
   ],
   "source": [
    "data.nunique(axis=0)"
   ]
  },
  {
   "cell_type": "markdown",
   "metadata": {},
   "source": [
    "У признака 'Favorite' всего 1 уникальное значение. Для дальнейшего исследования удалим из датасета признаки 'Favorite', 'Avg HR' и 'Max HR' как мало информативные."
   ]
  },
  {
   "cell_type": "code",
   "execution_count": 7,
   "metadata": {},
   "outputs": [],
   "source": [
    "data.drop([' Favorite', 'Avg HR', 'Max HR'], axis=1, inplace=True)"
   ]
  },
  {
   "cell_type": "markdown",
   "metadata": {},
   "source": [
    "Посмотрим какие значения принимает признак 'Activity Type'"
   ]
  },
  {
   "cell_type": "code",
   "execution_count": 8,
   "metadata": {},
   "outputs": [
    {
     "data": {
      "text/plain": [
       "Running    215\n",
       "Cycling      1\n",
       "Name: Activity Type, dtype: int64"
      ]
     },
     "execution_count": 8,
     "metadata": {},
     "output_type": "execute_result"
    }
   ],
   "source": [
    "data['Activity Type'].value_counts()"
   ]
  },
  {
   "cell_type": "markdown",
   "metadata": {},
   "source": [
    "Видно, что имеем 215 беговых тренировок и 1 тренировку на велосипеде. Удалим из датасета тренировку на веллсипеде.\n",
    "После этого удалим из датасета признак 'Activity Type' как малоинформативный."
   ]
  },
  {
   "cell_type": "code",
   "execution_count": 9,
   "metadata": {},
   "outputs": [],
   "source": [
    "data.drop(data[data['Activity Type'] == 'Cycling'].index, inplace=True)\n",
    "data.drop('Activity Type', axis=1, inplace=True)"
   ]
  },
  {
   "cell_type": "markdown",
   "metadata": {},
   "source": [
    "Удалим из датасета тренировки, по которым часы не записали значения 'Elevation Gain', возможно, часы дали сбой."
   ]
  },
  {
   "cell_type": "code",
   "execution_count": 10,
   "metadata": {},
   "outputs": [],
   "source": [
    "data.drop(data[data['Elevation Gain'].notna() != True].index, inplace=True)"
   ]
  },
  {
   "cell_type": "markdown",
   "metadata": {},
   "source": [
    "Посмотрим, что у нас получилось после очистки датасета от лишних значений."
   ]
  },
  {
   "cell_type": "code",
   "execution_count": 11,
   "metadata": {},
   "outputs": [
    {
     "data": {
      "text/html": [
       "<div>\n",
       "<style scoped>\n",
       "    .dataframe tbody tr th:only-of-type {\n",
       "        vertical-align: middle;\n",
       "    }\n",
       "\n",
       "    .dataframe tbody tr th {\n",
       "        vertical-align: top;\n",
       "    }\n",
       "\n",
       "    .dataframe thead th {\n",
       "        text-align: right;\n",
       "    }\n",
       "</style>\n",
       "<table border=\"1\" class=\"dataframe\">\n",
       "  <thead>\n",
       "    <tr style=\"text-align: right;\">\n",
       "      <th></th>\n",
       "      <th>Activity Name</th>\n",
       "      <th>Start</th>\n",
       "      <th>Time</th>\n",
       "      <th>Distance</th>\n",
       "      <th>Elevation Gain</th>\n",
       "      <th>Avg Speed(Avg Pace)</th>\n",
       "      <th>Max Speed(Best Pace)</th>\n",
       "      <th>Calories</th>\n",
       "    </tr>\n",
       "  </thead>\n",
       "  <tbody>\n",
       "    <tr>\n",
       "      <th>0</th>\n",
       "      <td>Missoula Running</td>\n",
       "      <td>Fri, Mar 3, 2017 9:19 PM</td>\n",
       "      <td>1:09:06</td>\n",
       "      <td>5.04</td>\n",
       "      <td>65</td>\n",
       "      <td>13:43</td>\n",
       "      <td>5:09</td>\n",
       "      <td>627</td>\n",
       "    </tr>\n",
       "    <tr>\n",
       "      <th>1</th>\n",
       "      <td>Missoula Running</td>\n",
       "      <td>Thu, Mar 2, 2017 11:06 AM</td>\n",
       "      <td>1:09:01</td>\n",
       "      <td>5.04</td>\n",
       "      <td>74</td>\n",
       "      <td>13:42</td>\n",
       "      <td>5:22</td>\n",
       "      <td>676</td>\n",
       "    </tr>\n",
       "    <tr>\n",
       "      <th>2</th>\n",
       "      <td>Missoula Running</td>\n",
       "      <td>Tue, Feb 28, 2017 9:07 AM</td>\n",
       "      <td>1:43:38</td>\n",
       "      <td>7.09</td>\n",
       "      <td>130</td>\n",
       "      <td>14:37</td>\n",
       "      <td>7:29</td>\n",
       "      <td>833</td>\n",
       "    </tr>\n",
       "    <tr>\n",
       "      <th>3</th>\n",
       "      <td>Missoula Running</td>\n",
       "      <td>Sun, Feb 26, 2017 12:31 PM</td>\n",
       "      <td>2:27:20</td>\n",
       "      <td>9.03</td>\n",
       "      <td>179</td>\n",
       "      <td>16:19</td>\n",
       "      <td>3:03</td>\n",
       "      <td>1,025</td>\n",
       "    </tr>\n",
       "    <tr>\n",
       "      <th>4</th>\n",
       "      <td>Missoula Running</td>\n",
       "      <td>Fri, Feb 24, 2017 4:31 PM</td>\n",
       "      <td>1:13:17</td>\n",
       "      <td>5.04</td>\n",
       "      <td>53</td>\n",
       "      <td>14:32</td>\n",
       "      <td>7:21</td>\n",
       "      <td>610</td>\n",
       "    </tr>\n",
       "  </tbody>\n",
       "</table>\n",
       "</div>"
      ],
      "text/plain": [
       "      Activity Name                       Start     Time  Distance  \\\n",
       "0  Missoula Running    Fri, Mar 3, 2017 9:19 PM  1:09:06      5.04   \n",
       "1  Missoula Running   Thu, Mar 2, 2017 11:06 AM  1:09:01      5.04   \n",
       "2  Missoula Running   Tue, Feb 28, 2017 9:07 AM  1:43:38      7.09   \n",
       "3  Missoula Running  Sun, Feb 26, 2017 12:31 PM  2:27:20      9.03   \n",
       "4  Missoula Running   Fri, Feb 24, 2017 4:31 PM  1:13:17      5.04   \n",
       "\n",
       "  Elevation Gain Avg Speed(Avg Pace) Max Speed(Best Pace) Calories  \n",
       "0             65               13:43                 5:09      627  \n",
       "1             74               13:42                 5:22      676  \n",
       "2            130               14:37                 7:29      833  \n",
       "3            179               16:19                 3:03    1,025  \n",
       "4             53               14:32                 7:21      610  "
      ]
     },
     "execution_count": 11,
     "metadata": {},
     "output_type": "execute_result"
    }
   ],
   "source": [
    "data.head()"
   ]
  },
  {
   "cell_type": "code",
   "execution_count": 12,
   "metadata": {},
   "outputs": [
    {
     "data": {
      "text/plain": [
       "Activity Name            30\n",
       "Start                   186\n",
       "Time                    182\n",
       "Distance                114\n",
       "Elevation Gain          134\n",
       "Avg Speed(Avg Pace)     158\n",
       "Max Speed(Best Pace)    140\n",
       "Calories                170\n",
       "dtype: int64"
      ]
     },
     "execution_count": 12,
     "metadata": {},
     "output_type": "execute_result"
    }
   ],
   "source": [
    "data.nunique(axis=0)"
   ]
  },
  {
   "cell_type": "code",
   "execution_count": 13,
   "metadata": {},
   "outputs": [
    {
     "name": "stdout",
     "output_type": "stream",
     "text": [
      "<class 'pandas.core.frame.DataFrame'>\n",
      "Int64Index: 188 entries, 0 to 215\n",
      "Data columns (total 8 columns):\n",
      " #   Column                Non-Null Count  Dtype  \n",
      "---  ------                --------------  -----  \n",
      " 0   Activity Name         188 non-null    object \n",
      " 1   Start                 188 non-null    object \n",
      " 2   Time                  188 non-null    object \n",
      " 3   Distance              188 non-null    float64\n",
      " 4   Elevation Gain        188 non-null    object \n",
      " 5   Avg Speed(Avg Pace)   188 non-null    object \n",
      " 6   Max Speed(Best Pace)  188 non-null    object \n",
      " 7   Calories              188 non-null    object \n",
      "dtypes: float64(1), object(7)\n",
      "memory usage: 13.2+ KB\n"
     ]
    }
   ],
   "source": [
    "data.info()"
   ]
  },
  {
   "cell_type": "code",
   "execution_count": 14,
   "metadata": {},
   "outputs": [
    {
     "data": {
      "text/plain": [
       "(188, 8)"
      ]
     },
     "execution_count": 14,
     "metadata": {},
     "output_type": "execute_result"
    }
   ],
   "source": [
    "data.shape"
   ]
  },
  {
   "cell_type": "markdown",
   "metadata": {},
   "source": [
    "Итак, мы имеем 188 записей о беговых тренировках, в которых все признаки заполнены.\n",
    "Преобразуем значения признаков и добавим новые."
   ]
  },
  {
   "cell_type": "markdown",
   "metadata": {},
   "source": [
    "Преобразуем признак 'Start' из строкового в datetime формат"
   ]
  },
  {
   "cell_type": "code",
   "execution_count": 15,
   "metadata": {},
   "outputs": [],
   "source": [
    "data['Start'] =  data['Start'].apply(lambda x: dateutil.parser.parse(x))"
   ]
  },
  {
   "cell_type": "markdown",
   "metadata": {},
   "source": [
    "Создадим новый признак 'Weekday' и присвоим ему соответствующие значения"
   ]
  },
  {
   "cell_type": "code",
   "execution_count": 16,
   "metadata": {},
   "outputs": [],
   "source": [
    "data['Weekday'] = pd.to_datetime(data['Start'])\n",
    "data['Weekday'] = data['Weekday'].dt.dayofweek"
   ]
  },
  {
   "cell_type": "markdown",
   "metadata": {},
   "source": [
    "Назовем значения соответствующими днями недели"
   ]
  },
  {
   "cell_type": "code",
   "execution_count": 17,
   "metadata": {},
   "outputs": [],
   "source": [
    "days = {0:'Mon',1:'Tue',2:'Wed',3:'Thu',4:'Fri',5:'Sat',6:'Sun'}\n",
    "data['Weekday'] = data['Weekday'].apply(lambda x: days[x])"
   ]
  },
  {
   "cell_type": "markdown",
   "metadata": {},
   "source": [
    "Извлекем из признака \"Start\" месяц и год пробежки в отдельные признаки"
   ]
  },
  {
   "cell_type": "code",
   "execution_count": 18,
   "metadata": {},
   "outputs": [],
   "source": [
    "data['Month'] = pd.DatetimeIndex(data['Start']).month\n",
    "data['Year'] = pd.DatetimeIndex(data['Start']).year"
   ]
  },
  {
   "cell_type": "markdown",
   "metadata": {},
   "source": [
    "Приведем признаки 'Distance' к типу данных float, а 'Elevation Gain' и 'Calories' к int."
   ]
  },
  {
   "cell_type": "code",
   "execution_count": 19,
   "metadata": {},
   "outputs": [],
   "source": [
    "data['Distance'] = data['Distance'].astype('float')\n",
    "data['Elevation Gain'] = data['Elevation Gain'].str.replace(',', '').astype('int')\n",
    "data['Calories'] = data['Calories'].str.replace(',', '').astype('int')"
   ]
  },
  {
   "cell_type": "markdown",
   "metadata": {},
   "source": [
    "Приведем признаки 'Avg Speed(Avg Pace)' и 'Max Speed(Best Pace)' к значениям в секундах"
   ]
  },
  {
   "cell_type": "code",
   "execution_count": 20,
   "metadata": {},
   "outputs": [],
   "source": [
    "def time_convert(x):\n",
    "    m,s = map(int,x.split(':'))\n",
    "    return m*60+s\n",
    "\n",
    "data['Avg Speed(Avg Pace)'] = data['Avg Speed(Avg Pace)'].apply(time_convert)\n",
    "data['Max Speed(Best Pace)'] = data['Max Speed(Best Pace)'].apply(time_convert)"
   ]
  },
  {
   "cell_type": "markdown",
   "metadata": {},
   "source": [
    "Приведем признак 'Time' к значениям в минутах"
   ]
  },
  {
   "cell_type": "code",
   "execution_count": 21,
   "metadata": {},
   "outputs": [],
   "source": [
    "def time_convert_to_min(x):\n",
    "    if len(x) == 7:\n",
    "        h,m,s = map(int,x.split(':'))\n",
    "        return h*60+m\n",
    "    if len(x) == 5:\n",
    "        m,s = map(int,x.split(':'))\n",
    "        return m\n",
    "    \n",
    "data['Time'] = data['Time'].apply(time_convert_to_min)"
   ]
  },
  {
   "cell_type": "code",
   "execution_count": 22,
   "metadata": {},
   "outputs": [
    {
     "data": {
      "text/html": [
       "<div>\n",
       "<style scoped>\n",
       "    .dataframe tbody tr th:only-of-type {\n",
       "        vertical-align: middle;\n",
       "    }\n",
       "\n",
       "    .dataframe tbody tr th {\n",
       "        vertical-align: top;\n",
       "    }\n",
       "\n",
       "    .dataframe thead th {\n",
       "        text-align: right;\n",
       "    }\n",
       "</style>\n",
       "<table border=\"1\" class=\"dataframe\">\n",
       "  <thead>\n",
       "    <tr style=\"text-align: right;\">\n",
       "      <th></th>\n",
       "      <th>Activity Name</th>\n",
       "      <th>Start</th>\n",
       "      <th>Time</th>\n",
       "      <th>Distance</th>\n",
       "      <th>Elevation Gain</th>\n",
       "      <th>Avg Speed(Avg Pace)</th>\n",
       "      <th>Max Speed(Best Pace)</th>\n",
       "      <th>Calories</th>\n",
       "      <th>Weekday</th>\n",
       "      <th>Month</th>\n",
       "      <th>Year</th>\n",
       "    </tr>\n",
       "  </thead>\n",
       "  <tbody>\n",
       "    <tr>\n",
       "      <th>0</th>\n",
       "      <td>Missoula Running</td>\n",
       "      <td>2017-03-03 21:19:00</td>\n",
       "      <td>69</td>\n",
       "      <td>5.04</td>\n",
       "      <td>65</td>\n",
       "      <td>823</td>\n",
       "      <td>309</td>\n",
       "      <td>627</td>\n",
       "      <td>Fri</td>\n",
       "      <td>3</td>\n",
       "      <td>2017</td>\n",
       "    </tr>\n",
       "    <tr>\n",
       "      <th>1</th>\n",
       "      <td>Missoula Running</td>\n",
       "      <td>2017-03-02 11:06:00</td>\n",
       "      <td>69</td>\n",
       "      <td>5.04</td>\n",
       "      <td>74</td>\n",
       "      <td>822</td>\n",
       "      <td>322</td>\n",
       "      <td>676</td>\n",
       "      <td>Thu</td>\n",
       "      <td>3</td>\n",
       "      <td>2017</td>\n",
       "    </tr>\n",
       "    <tr>\n",
       "      <th>2</th>\n",
       "      <td>Missoula Running</td>\n",
       "      <td>2017-02-28 09:07:00</td>\n",
       "      <td>103</td>\n",
       "      <td>7.09</td>\n",
       "      <td>130</td>\n",
       "      <td>877</td>\n",
       "      <td>449</td>\n",
       "      <td>833</td>\n",
       "      <td>Tue</td>\n",
       "      <td>2</td>\n",
       "      <td>2017</td>\n",
       "    </tr>\n",
       "    <tr>\n",
       "      <th>3</th>\n",
       "      <td>Missoula Running</td>\n",
       "      <td>2017-02-26 12:31:00</td>\n",
       "      <td>147</td>\n",
       "      <td>9.03</td>\n",
       "      <td>179</td>\n",
       "      <td>979</td>\n",
       "      <td>183</td>\n",
       "      <td>1025</td>\n",
       "      <td>Sun</td>\n",
       "      <td>2</td>\n",
       "      <td>2017</td>\n",
       "    </tr>\n",
       "    <tr>\n",
       "      <th>4</th>\n",
       "      <td>Missoula Running</td>\n",
       "      <td>2017-02-24 16:31:00</td>\n",
       "      <td>73</td>\n",
       "      <td>5.04</td>\n",
       "      <td>53</td>\n",
       "      <td>872</td>\n",
       "      <td>441</td>\n",
       "      <td>610</td>\n",
       "      <td>Fri</td>\n",
       "      <td>2</td>\n",
       "      <td>2017</td>\n",
       "    </tr>\n",
       "  </tbody>\n",
       "</table>\n",
       "</div>"
      ],
      "text/plain": [
       "      Activity Name               Start  Time  Distance  Elevation Gain  \\\n",
       "0  Missoula Running 2017-03-03 21:19:00    69      5.04              65   \n",
       "1  Missoula Running 2017-03-02 11:06:00    69      5.04              74   \n",
       "2  Missoula Running 2017-02-28 09:07:00   103      7.09             130   \n",
       "3  Missoula Running 2017-02-26 12:31:00   147      9.03             179   \n",
       "4  Missoula Running 2017-02-24 16:31:00    73      5.04              53   \n",
       "\n",
       "   Avg Speed(Avg Pace)  Max Speed(Best Pace)  Calories Weekday  Month  Year  \n",
       "0                  823                   309       627     Fri      3  2017  \n",
       "1                  822                   322       676     Thu      3  2017  \n",
       "2                  877                   449       833     Tue      2  2017  \n",
       "3                  979                   183      1025     Sun      2  2017  \n",
       "4                  872                   441       610     Fri      2  2017  "
      ]
     },
     "execution_count": 22,
     "metadata": {},
     "output_type": "execute_result"
    }
   ],
   "source": [
    "data.head()"
   ]
  },
  {
   "cell_type": "code",
   "execution_count": 23,
   "metadata": {
    "scrolled": true
   },
   "outputs": [
    {
     "data": {
      "image/png": "[encoded data removed]",
      "text/plain": [
       "<Figure size 576x360 with 1 Axes>"
      ]
     },
     "metadata": {
      "needs_background": "light"
     },
     "output_type": "display_data"
    }
   ],
   "source": [
    "sns.distplot(data['Year']);"
   ]
  },
  {
   "cell_type": "code",
   "execution_count": 24,
   "metadata": {},
   "outputs": [
    {
     "data": {
      "text/html": [
       "<div>\n",
       "<style scoped>\n",
       "    .dataframe tbody tr th:only-of-type {\n",
       "        vertical-align: middle;\n",
       "    }\n",
       "\n",
       "    .dataframe tbody tr th {\n",
       "        vertical-align: top;\n",
       "    }\n",
       "\n",
       "    .dataframe thead th {\n",
       "        text-align: right;\n",
       "    }\n",
       "</style>\n",
       "<table border=\"1\" class=\"dataframe\">\n",
       "  <thead>\n",
       "    <tr style=\"text-align: right;\">\n",
       "      <th></th>\n",
       "      <th>Activity Name</th>\n",
       "      <th>Start</th>\n",
       "      <th>Time</th>\n",
       "      <th>Distance</th>\n",
       "      <th>Elevation Gain</th>\n",
       "      <th>Avg Speed(Avg Pace)</th>\n",
       "      <th>Max Speed(Best Pace)</th>\n",
       "      <th>Calories</th>\n",
       "      <th>Weekday</th>\n",
       "      <th>Month</th>\n",
       "      <th>Year</th>\n",
       "    </tr>\n",
       "  </thead>\n",
       "  <tbody>\n",
       "    <tr>\n",
       "      <th>0</th>\n",
       "      <td>Missoula Running</td>\n",
       "      <td>2017-03-03 21:19:00</td>\n",
       "      <td>69</td>\n",
       "      <td>5.04</td>\n",
       "      <td>65</td>\n",
       "      <td>823</td>\n",
       "      <td>309</td>\n",
       "      <td>627</td>\n",
       "      <td>Fri</td>\n",
       "      <td>3</td>\n",
       "      <td>2017</td>\n",
       "    </tr>\n",
       "    <tr>\n",
       "      <th>1</th>\n",
       "      <td>Missoula Running</td>\n",
       "      <td>2017-03-02 11:06:00</td>\n",
       "      <td>69</td>\n",
       "      <td>5.04</td>\n",
       "      <td>74</td>\n",
       "      <td>822</td>\n",
       "      <td>322</td>\n",
       "      <td>676</td>\n",
       "      <td>Thu</td>\n",
       "      <td>3</td>\n",
       "      <td>2017</td>\n",
       "    </tr>\n",
       "    <tr>\n",
       "      <th>2</th>\n",
       "      <td>Missoula Running</td>\n",
       "      <td>2017-02-28 09:07:00</td>\n",
       "      <td>103</td>\n",
       "      <td>7.09</td>\n",
       "      <td>130</td>\n",
       "      <td>877</td>\n",
       "      <td>449</td>\n",
       "      <td>833</td>\n",
       "      <td>Tue</td>\n",
       "      <td>2</td>\n",
       "      <td>2017</td>\n",
       "    </tr>\n",
       "    <tr>\n",
       "      <th>3</th>\n",
       "      <td>Missoula Running</td>\n",
       "      <td>2017-02-26 12:31:00</td>\n",
       "      <td>147</td>\n",
       "      <td>9.03</td>\n",
       "      <td>179</td>\n",
       "      <td>979</td>\n",
       "      <td>183</td>\n",
       "      <td>1025</td>\n",
       "      <td>Sun</td>\n",
       "      <td>2</td>\n",
       "      <td>2017</td>\n",
       "    </tr>\n",
       "    <tr>\n",
       "      <th>4</th>\n",
       "      <td>Missoula Running</td>\n",
       "      <td>2017-02-24 16:31:00</td>\n",
       "      <td>73</td>\n",
       "      <td>5.04</td>\n",
       "      <td>53</td>\n",
       "      <td>872</td>\n",
       "      <td>441</td>\n",
       "      <td>610</td>\n",
       "      <td>Fri</td>\n",
       "      <td>2</td>\n",
       "      <td>2017</td>\n",
       "    </tr>\n",
       "  </tbody>\n",
       "</table>\n",
       "</div>"
      ],
      "text/plain": [
       "      Activity Name               Start  Time  Distance  Elevation Gain  \\\n",
       "0  Missoula Running 2017-03-03 21:19:00    69      5.04              65   \n",
       "1  Missoula Running 2017-03-02 11:06:00    69      5.04              74   \n",
       "2  Missoula Running 2017-02-28 09:07:00   103      7.09             130   \n",
       "3  Missoula Running 2017-02-26 12:31:00   147      9.03             179   \n",
       "4  Missoula Running 2017-02-24 16:31:00    73      5.04              53   \n",
       "\n",
       "   Avg Speed(Avg Pace)  Max Speed(Best Pace)  Calories Weekday  Month  Year  \n",
       "0                  823                   309       627     Fri      3  2017  \n",
       "1                  822                   322       676     Thu      3  2017  \n",
       "2                  877                   449       833     Tue      2  2017  \n",
       "3                  979                   183      1025     Sun      2  2017  \n",
       "4                  872                   441       610     Fri      2  2017  "
      ]
     },
     "execution_count": 24,
     "metadata": {},
     "output_type": "execute_result"
    }
   ],
   "source": [
    "data.head()"
   ]
  },
  {
   "cell_type": "markdown",
   "metadata": {},
   "source": [
    "Посмотрим на распледеление тренировок по месяцам в разрезе года"
   ]
  },
  {
   "cell_type": "code",
   "execution_count": 25,
   "metadata": {},
   "outputs": [
    {
     "data": {
      "text/html": [
       "<div>\n",
       "<style scoped>\n",
       "    .dataframe tbody tr th:only-of-type {\n",
       "        vertical-align: middle;\n",
       "    }\n",
       "\n",
       "    .dataframe tbody tr th {\n",
       "        vertical-align: top;\n",
       "    }\n",
       "\n",
       "    .dataframe thead th {\n",
       "        text-align: right;\n",
       "    }\n",
       "</style>\n",
       "<table border=\"1\" class=\"dataframe\">\n",
       "  <thead>\n",
       "    <tr style=\"text-align: right;\">\n",
       "      <th>Year</th>\n",
       "      <th>2013</th>\n",
       "      <th>2014</th>\n",
       "      <th>2015</th>\n",
       "      <th>2016</th>\n",
       "      <th>2017</th>\n",
       "      <th>All</th>\n",
       "    </tr>\n",
       "    <tr>\n",
       "      <th>Month</th>\n",
       "      <th></th>\n",
       "      <th></th>\n",
       "      <th></th>\n",
       "      <th></th>\n",
       "      <th></th>\n",
       "      <th></th>\n",
       "    </tr>\n",
       "  </thead>\n",
       "  <tbody>\n",
       "    <tr>\n",
       "      <th>1</th>\n",
       "      <td>0</td>\n",
       "      <td>0</td>\n",
       "      <td>0</td>\n",
       "      <td>0</td>\n",
       "      <td>7</td>\n",
       "      <td>7</td>\n",
       "    </tr>\n",
       "    <tr>\n",
       "      <th>2</th>\n",
       "      <td>0</td>\n",
       "      <td>0</td>\n",
       "      <td>2</td>\n",
       "      <td>0</td>\n",
       "      <td>15</td>\n",
       "      <td>17</td>\n",
       "    </tr>\n",
       "    <tr>\n",
       "      <th>3</th>\n",
       "      <td>0</td>\n",
       "      <td>0</td>\n",
       "      <td>9</td>\n",
       "      <td>3</td>\n",
       "      <td>2</td>\n",
       "      <td>14</td>\n",
       "    </tr>\n",
       "    <tr>\n",
       "      <th>4</th>\n",
       "      <td>0</td>\n",
       "      <td>1</td>\n",
       "      <td>8</td>\n",
       "      <td>5</td>\n",
       "      <td>0</td>\n",
       "      <td>14</td>\n",
       "    </tr>\n",
       "    <tr>\n",
       "      <th>5</th>\n",
       "      <td>0</td>\n",
       "      <td>3</td>\n",
       "      <td>12</td>\n",
       "      <td>16</td>\n",
       "      <td>0</td>\n",
       "      <td>31</td>\n",
       "    </tr>\n",
       "    <tr>\n",
       "      <th>6</th>\n",
       "      <td>8</td>\n",
       "      <td>5</td>\n",
       "      <td>10</td>\n",
       "      <td>10</td>\n",
       "      <td>0</td>\n",
       "      <td>33</td>\n",
       "    </tr>\n",
       "    <tr>\n",
       "      <th>7</th>\n",
       "      <td>0</td>\n",
       "      <td>2</td>\n",
       "      <td>8</td>\n",
       "      <td>8</td>\n",
       "      <td>0</td>\n",
       "      <td>18</td>\n",
       "    </tr>\n",
       "    <tr>\n",
       "      <th>8</th>\n",
       "      <td>0</td>\n",
       "      <td>0</td>\n",
       "      <td>7</td>\n",
       "      <td>3</td>\n",
       "      <td>0</td>\n",
       "      <td>10</td>\n",
       "    </tr>\n",
       "    <tr>\n",
       "      <th>9</th>\n",
       "      <td>0</td>\n",
       "      <td>2</td>\n",
       "      <td>10</td>\n",
       "      <td>14</td>\n",
       "      <td>0</td>\n",
       "      <td>26</td>\n",
       "    </tr>\n",
       "    <tr>\n",
       "      <th>10</th>\n",
       "      <td>0</td>\n",
       "      <td>1</td>\n",
       "      <td>0</td>\n",
       "      <td>13</td>\n",
       "      <td>0</td>\n",
       "      <td>14</td>\n",
       "    </tr>\n",
       "    <tr>\n",
       "      <th>11</th>\n",
       "      <td>0</td>\n",
       "      <td>1</td>\n",
       "      <td>0</td>\n",
       "      <td>1</td>\n",
       "      <td>0</td>\n",
       "      <td>2</td>\n",
       "    </tr>\n",
       "    <tr>\n",
       "      <th>12</th>\n",
       "      <td>0</td>\n",
       "      <td>1</td>\n",
       "      <td>0</td>\n",
       "      <td>1</td>\n",
       "      <td>0</td>\n",
       "      <td>2</td>\n",
       "    </tr>\n",
       "    <tr>\n",
       "      <th>All</th>\n",
       "      <td>8</td>\n",
       "      <td>16</td>\n",
       "      <td>66</td>\n",
       "      <td>74</td>\n",
       "      <td>24</td>\n",
       "      <td>188</td>\n",
       "    </tr>\n",
       "  </tbody>\n",
       "</table>\n",
       "</div>"
      ],
      "text/plain": [
       "Year   2013  2014  2015  2016  2017  All\n",
       "Month                                   \n",
       "1         0     0     0     0     7    7\n",
       "2         0     0     2     0    15   17\n",
       "3         0     0     9     3     2   14\n",
       "4         0     1     8     5     0   14\n",
       "5         0     3    12    16     0   31\n",
       "6         8     5    10    10     0   33\n",
       "7         0     2     8     8     0   18\n",
       "8         0     0     7     3     0   10\n",
       "9         0     2    10    14     0   26\n",
       "10        0     1     0    13     0   14\n",
       "11        0     1     0     1     0    2\n",
       "12        0     1     0     1     0    2\n",
       "All       8    16    66    74    24  188"
      ]
     },
     "execution_count": 25,
     "metadata": {},
     "output_type": "execute_result"
    }
   ],
   "source": [
    "pd.crosstab(data['Month'], data['Year'], margins=True)"
   ]
  },
  {
   "cell_type": "markdown",
   "metadata": {},
   "source": [
    "Из таблицы видно следующее:\\\n",
    "Тренировки начались в 2013 году. Было проделано 8 тренировок и все они пришлись на июнь месяц.\\\n",
    "В 2014 году спортсмен начал тренироваться в апреле и занимался, за исключением августа до конца года. Всего за 2014 год проделал 16 тренировок.\\\n",
    "Основное число тренировок пришлось на 2015-2016 гг. по 66 и 74 соответственно.\\\n",
    "В 2017 году тренировочными были только первые три месяца, общее число занятий составило 24."
   ]
  },
  {
   "cell_type": "markdown",
   "metadata": {},
   "source": [
    "Посмотрим на графике распределение тренировок по годам"
   ]
  },
  {
   "cell_type": "code",
   "execution_count": 26,
   "metadata": {
    "scrolled": true
   },
   "outputs": [
    {
     "data": {
      "image/png": "[encoded data removed]",
      "text/plain": [
       "<Figure size 576x360 with 1 Axes>"
      ]
     },
     "metadata": {
      "needs_background": "light"
     },
     "output_type": "display_data"
    }
   ],
   "source": [
    "sns.distplot(data['Year']);"
   ]
  },
  {
   "cell_type": "markdown",
   "metadata": {},
   "source": [
    "Посмотрим наглядно на распредление тренировок по месяцам"
   ]
  },
  {
   "cell_type": "code",
   "execution_count": 27,
   "metadata": {
    "scrolled": false
   },
   "outputs": [
    {
     "data": {
      "image/png": "[encoded data removed]",
      "text/plain": [
       "<Figure size 576x360 with 1 Axes>"
      ]
     },
     "metadata": {
      "needs_background": "light"
     },
     "output_type": "display_data"
    }
   ],
   "source": [
    "data['Month'].value_counts().plot(kind='bar', label='Month')\n",
    "plt.legend()\n",
    "plt.title('Распределение тренировок по месяцам');"
   ]
  },
  {
   "cell_type": "markdown",
   "metadata": {},
   "source": [
    "Самое большое количество тренировок пришлось на три месяца (25 и более): июнь, май и сентябрь."
   ]
  },
  {
   "cell_type": "markdown",
   "metadata": {},
   "source": [
    "Посмотрим на распределение тренировок по дням недели"
   ]
  },
  {
   "cell_type": "code",
   "execution_count": 28,
   "metadata": {
    "scrolled": true
   },
   "outputs": [
    {
     "data": {
      "image/png": "[encoded data removed]",
      "text/plain": [
       "<Figure size 576x360 with 1 Axes>"
      ]
     },
     "metadata": {
      "needs_background": "light"
     },
     "output_type": "display_data"
    }
   ],
   "source": [
    "data['Weekday'].value_counts().plot(kind='bar', label='Weekday')\n",
    "plt.legend()\n",
    "plt.title('Распределение тренировок по дням недели');"
   ]
  },
  {
   "cell_type": "markdown",
   "metadata": {},
   "source": [
    "Здесь не видно какой-либо закономерности, тренировки распределены достаточно равномерно."
   ]
  },
  {
   "cell_type": "markdown",
   "metadata": {},
   "source": [
    "Посмотрим на средние значения и медиану числовых признаков"
   ]
  },
  {
   "cell_type": "code",
   "execution_count": 29,
   "metadata": {},
   "outputs": [
    {
     "data": {
      "text/html": [
       "<div>\n",
       "<style scoped>\n",
       "    .dataframe tbody tr th:only-of-type {\n",
       "        vertical-align: middle;\n",
       "    }\n",
       "\n",
       "    .dataframe tbody tr th {\n",
       "        vertical-align: top;\n",
       "    }\n",
       "\n",
       "    .dataframe thead tr th {\n",
       "        text-align: left;\n",
       "    }\n",
       "\n",
       "    .dataframe thead tr:last-of-type th {\n",
       "        text-align: right;\n",
       "    }\n",
       "</style>\n",
       "<table border=\"1\" class=\"dataframe\">\n",
       "  <thead>\n",
       "    <tr>\n",
       "      <th></th>\n",
       "      <th colspan=\"2\" halign=\"left\">Time</th>\n",
       "      <th colspan=\"2\" halign=\"left\">Distance</th>\n",
       "      <th colspan=\"2\" halign=\"left\">Elevation Gain</th>\n",
       "      <th colspan=\"2\" halign=\"left\">Avg Speed(Avg Pace)</th>\n",
       "      <th colspan=\"2\" halign=\"left\">Calories</th>\n",
       "    </tr>\n",
       "    <tr>\n",
       "      <th></th>\n",
       "      <th>mean</th>\n",
       "      <th>median</th>\n",
       "      <th>mean</th>\n",
       "      <th>median</th>\n",
       "      <th>mean</th>\n",
       "      <th>median</th>\n",
       "      <th>mean</th>\n",
       "      <th>median</th>\n",
       "      <th>mean</th>\n",
       "      <th>median</th>\n",
       "    </tr>\n",
       "    <tr>\n",
       "      <th>Year</th>\n",
       "      <th></th>\n",
       "      <th></th>\n",
       "      <th></th>\n",
       "      <th></th>\n",
       "      <th></th>\n",
       "      <th></th>\n",
       "      <th></th>\n",
       "      <th></th>\n",
       "      <th></th>\n",
       "      <th></th>\n",
       "    </tr>\n",
       "  </thead>\n",
       "  <tbody>\n",
       "    <tr>\n",
       "      <th>2013</th>\n",
       "      <td>135.125000</td>\n",
       "      <td>89.5</td>\n",
       "      <td>4.236250</td>\n",
       "      <td>4.295</td>\n",
       "      <td>209.125000</td>\n",
       "      <td>108.0</td>\n",
       "      <td>1722.875000</td>\n",
       "      <td>1679.0</td>\n",
       "      <td>500.250000</td>\n",
       "      <td>465.5</td>\n",
       "    </tr>\n",
       "    <tr>\n",
       "      <th>2014</th>\n",
       "      <td>89.250000</td>\n",
       "      <td>77.5</td>\n",
       "      <td>5.186875</td>\n",
       "      <td>4.850</td>\n",
       "      <td>785.812500</td>\n",
       "      <td>871.5</td>\n",
       "      <td>987.125000</td>\n",
       "      <td>964.5</td>\n",
       "      <td>656.625000</td>\n",
       "      <td>608.0</td>\n",
       "    </tr>\n",
       "    <tr>\n",
       "      <th>2015</th>\n",
       "      <td>70.121212</td>\n",
       "      <td>57.5</td>\n",
       "      <td>5.644697</td>\n",
       "      <td>5.090</td>\n",
       "      <td>212.500000</td>\n",
       "      <td>71.0</td>\n",
       "      <td>738.606061</td>\n",
       "      <td>678.5</td>\n",
       "      <td>769.363636</td>\n",
       "      <td>713.0</td>\n",
       "    </tr>\n",
       "    <tr>\n",
       "      <th>2016</th>\n",
       "      <td>111.121622</td>\n",
       "      <td>97.5</td>\n",
       "      <td>8.186622</td>\n",
       "      <td>8.000</td>\n",
       "      <td>448.405405</td>\n",
       "      <td>157.5</td>\n",
       "      <td>809.554054</td>\n",
       "      <td>781.0</td>\n",
       "      <td>1102.729730</td>\n",
       "      <td>1083.0</td>\n",
       "    </tr>\n",
       "    <tr>\n",
       "      <th>2017</th>\n",
       "      <td>79.291667</td>\n",
       "      <td>72.0</td>\n",
       "      <td>5.788750</td>\n",
       "      <td>5.045</td>\n",
       "      <td>90.041667</td>\n",
       "      <td>77.0</td>\n",
       "      <td>821.666667</td>\n",
       "      <td>818.5</td>\n",
       "      <td>747.375000</td>\n",
       "      <td>679.5</td>\n",
       "    </tr>\n",
       "  </tbody>\n",
       "</table>\n",
       "</div>"
      ],
      "text/plain": [
       "            Time         Distance        Elevation Gain         \\\n",
       "            mean median      mean median           mean median   \n",
       "Year                                                             \n",
       "2013  135.125000   89.5  4.236250  4.295     209.125000  108.0   \n",
       "2014   89.250000   77.5  5.186875  4.850     785.812500  871.5   \n",
       "2015   70.121212   57.5  5.644697  5.090     212.500000   71.0   \n",
       "2016  111.121622   97.5  8.186622  8.000     448.405405  157.5   \n",
       "2017   79.291667   72.0  5.788750  5.045      90.041667   77.0   \n",
       "\n",
       "     Avg Speed(Avg Pace)             Calories          \n",
       "                    mean  median         mean  median  \n",
       "Year                                                   \n",
       "2013         1722.875000  1679.0   500.250000   465.5  \n",
       "2014          987.125000   964.5   656.625000   608.0  \n",
       "2015          738.606061   678.5   769.363636   713.0  \n",
       "2016          809.554054   781.0  1102.729730  1083.0  \n",
       "2017          821.666667   818.5   747.375000   679.5  "
      ]
     },
     "execution_count": 29,
     "metadata": {},
     "output_type": "execute_result"
    }
   ],
   "source": [
    "columns_to_show = ['Time', 'Distance', 'Elevation Gain', 'Avg Speed(Avg Pace)', 'Calories']\n",
    "\n",
    "data.groupby(['Year'])[columns_to_show].agg([np.mean, np.median])"
   ]
  },
  {
   "cell_type": "markdown",
   "metadata": {},
   "source": [
    "Отобразим на графиках по отдельности"
   ]
  },
  {
   "cell_type": "code",
   "execution_count": 30,
   "metadata": {},
   "outputs": [
    {
     "data": {
      "image/png": "[encoded data removed]",
      "text/plain": [
       "<Figure size 576x360 with 1 Axes>"
      ]
     },
     "metadata": {
      "needs_background": "light"
     },
     "output_type": "display_data"
    }
   ],
   "source": [
    "sns.boxplot(y=\"Distance\", x=\"Year\", data=data);"
   ]
  },
  {
   "cell_type": "code",
   "execution_count": 31,
   "metadata": {},
   "outputs": [
    {
     "data": {
      "image/png": "[encoded data removed]",
      "text/plain": [
       "<Figure size 576x360 with 1 Axes>"
      ]
     },
     "metadata": {
      "needs_background": "light"
     },
     "output_type": "display_data"
    }
   ],
   "source": [
    "sns.boxplot(y=\"Avg Speed(Avg Pace)\", x=\"Year\", data=data);"
   ]
  },
  {
   "cell_type": "code",
   "execution_count": 32,
   "metadata": {},
   "outputs": [
    {
     "data": {
      "image/png": "[encoded data removed]",
      "text/plain": [
       "<Figure size 576x360 with 1 Axes>"
      ]
     },
     "metadata": {
      "needs_background": "light"
     },
     "output_type": "display_data"
    }
   ],
   "source": [
    "sns.boxplot(y=\"Time\", x=\"Year\", data=data);"
   ]
  },
  {
   "cell_type": "code",
   "execution_count": 33,
   "metadata": {},
   "outputs": [
    {
     "data": {
      "image/png": "[encoded data removed]",
      "text/plain": [
       "<Figure size 576x360 with 2 Axes>"
      ]
     },
     "metadata": {
      "needs_background": "light"
     },
     "output_type": "display_data"
    }
   ],
   "source": [
    "corr = data[['Time', 'Distance', 'Elevation Gain', 'Avg Speed(Avg Pace)', 'Calories']].corr()\n",
    "sns.heatmap(corr, xticklabels=corr.columns, yticklabels=corr.columns, annot=True,\\\n",
    "            cmap=sns.diverging_palette(220, 20, as_cmap=True));"
   ]
  }
 ],
 "metadata": {
  "kernelspec": {
   "display_name": "Python 3",
   "language": "python",
   "name": "python3"
  },
  "language_info": {
   "codemirror_mode": {
    "name": "ipython",
    "version": 3
   },
   "file_extension": ".py",
   "mimetype": "text/x-python",
   "name": "python",
   "nbconvert_exporter": "python",
   "pygments_lexer": "ipython3",
   "version": "3.8.3"
  }
 },
 "nbformat": 4,
 "nbformat_minor": 4
}
